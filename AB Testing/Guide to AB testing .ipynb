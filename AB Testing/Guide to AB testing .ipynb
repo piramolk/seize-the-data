{
 "cells": [
  {
   "cell_type": "markdown",
   "id": "0773d2e3",
   "metadata": {},
   "source": [
    "# About\n",
    "* objectives: Get a clear understanding of the concepts behind A/B testing and apply them on practice data\n",
    "\n",
    "# What is A/B testing?\n",
    "* It is part of user experience research methodology\n",
    "* It involves a randomized experiment wherein two or more versions of a variable (web page, page element etc) are shown to different segments of website visitors at the same time to determine which leaves the maximum impact and drive business metrics\n",
    "\n",
    "# Why A/B testing?\n",
    "* Essentially, A/B testing eliminates all the guesswork out of website optimization and enables experience optimizers to make data-backed decisions. \n",
    "* In A/B testing, A refers to ‘control’ or the original testing variable. Whereas B refers to ‘variation’ or a new version of the original testing variable. \n",
    "* The version that moves your business metric(s) in the positive direction is known as the ‘winner.’ Implementing the changes of this winning variation on your tested page(s) / element(s) can help optimize your website and increase business ROI. \n",
    "* metrics for conversion differ across websites/ uses i.e. sale if products vs generation of leads\n",
    "* A/B testing is one of the components of the overarching process of Conversion Rate Optimisation\n",
    "    * this can be used to gather qualitative and quantitative user insights\n",
    "\n",
    "# Critical Steps Summary\n",
    "1. Determining Minimum Detectable Effect\n",
    "2. Calculating Sample Size\n",
    "3. Analyzing Results for Statistical Significance\n",
    "\n",
    "---\n",
    "# Example of task/scenario\n",
    "* You are part of a video game development company, NightFort games\n",
    "* Recently, you have recognized a lot of users quitting after one particular level\n",
    "* The product team has posed a hypothesis <b> that the level is too hard, and making it easier will allow for less user frustration and hence more players continuing to play the game </b>\n",
    "* From this we can extract a few things\n",
    "    * Independent variable (that which we change) : Difficulty of the level\n",
    "    * Dependent variable (that which we monitor) : number of users/ proportion of users continuing to player\n",
    "    * Desired objective: an increase in the number of players continuing to play the game\n",
    "\n",
    "## Sample Size Calculation\n",
    "### Desired business effect\n",
    ">Our video game company has made some tweaks to the level to make it easier, effectively changing the difficulty from hard to medium. Before blindly rolling an update out to all the users, the product team wants to test the changes on a small sample to see if they make a positive impact.\n",
    "* The desired metric is the <b> percentage of players who continue playing after reaching our level in question </b>. * Currently, <b>70% of users continue to play</b> where the <b>remaining 30% stop playing</b>. \n",
    "* The product team has decided increasing this to <b>75%</b> would warrant deploying the changes and making an update to the game.\n",
    "\n",
    "### Minimum Detectale Effect\n",
    "* 70 -> 75 : helps us calcualte the minimum detectable effect\n",
    "    * one of the inputs when calculating sample size\n",
    "* as we are comparing two proportions, we will use the `proportion_effectsize` function in statsmodels"
   ]
  },
  {
   "cell_type": "code",
   "execution_count": 2,
   "id": "4db65d3d",
   "metadata": {},
   "outputs": [],
   "source": [
    "import statsmodels.api as sm"
   ]
  },
  {
   "cell_type": "code",
   "execution_count": 3,
   "id": "9d006e87",
   "metadata": {},
   "outputs": [
    {
     "name": "stdout",
     "output_type": "stream",
     "text": [
      "For a change from 0.70 to 0.75 - the effect size is -0.11.\n"
     ]
    }
   ],
   "source": [
    "init_prop = 0.7\n",
    "mde_prop = 0.75\n",
    "effect_size = sm.stats.proportion_effectsize(\n",
    "    init_prop, \n",
    "    mde_prop\n",
    ")\n",
    "print(f'For a change from {init_prop:.2f} to {mde_prop:.2f} - the effect size is {effect_size:.2f}.')"
   ]
  },
  {
   "cell_type": "markdown",
   "id": "7022e83d",
   "metadata": {},
   "source": [
    "### Sample Size\n",
    "* Now that we have ascertained the minimum desirable effect, we can calculate smaple size\n",
    "* to do this for a proportion problem, `zt_ind_solve_power` from the statsmodels libraryy is used\n",
    "\n",
    "<u> `zt_ind_solve_power` </u> \n",
    "* `statsmodels.stats.power.zt_ind_solve_power(effect_size=None, nobs1=None, alpha=None, power=None, ratio=1.0, alternative='two-sided')¶`\n",
    "* solve for any one parameter of the power of a two sample z-test\n",
    "* for z-test the keywords are:\n",
    "    * `effect_size, nobs1, alpha, power, ratio`\n",
    "* exactly one needs to be None, all others need numeric values\n",
    "\n",
    "    <u> Parameters </u>\n",
    "    * effect_size: float\n",
    "        * standardized effect size, difference between the two means divided by the standard deviation. \n",
    "        * If ratio=0, then this is the standardized mean in the one sample test.\n",
    "    * nobs1 : int or float\n",
    "        * number of observations of sample 1. \n",
    "        * The number of observations of sample two is ratio times the size of sample 1, i.e. nobs2 = nobs1 * ratio ratio can be set to zero in order to get the power for a one sample test.\n",
    "    * alphafloat in interval (0,1)\n",
    "        * significance level, e.g. 0.05, is the probability of a type I error, that is wrong rejections if the Null Hypothesis is true.\n",
    "    * powerfloat in interval (0,1)\n",
    "        * power of the test, e.g. 0.8, is one minus the probability of a type II error. \n",
    "        * Power is the probability that the test correctly rejects the Null Hypothesis if the Alternative Hypothesis is true.\n",
    "    * ratiofloat\n",
    "        * ratio of the number of observations in sample 2 relative to sample 1. see description of nobs1 The default for ratio is 1; to solve for ration given the other arguments it has to be explicitly set to None.\n",
    "\n",
    "    <u> Returns </u>\n",
    "    * value:float\n"
   ]
  },
  {
   "cell_type": "code",
   "execution_count": 5,
   "id": "7ceca9ae",
   "metadata": {},
   "outputs": [
    {
     "name": "stdout",
     "output_type": "stream",
     "text": [
      "1250 sample size required given power analysis and input parameters.\n"
     ]
    }
   ],
   "source": [
    "from math import ceil\n",
    "\n",
    "sample_size = sm.stats.zt_ind_solve_power(\n",
    "    effect_size=effect_size, \n",
    "    nobs1=None, \n",
    "    alpha=0.05, \n",
    "    power=0.8\n",
    ")\n",
    "print(f'{ceil(sample_size)} sample size required given power analysis and input parameters.')"
   ]
  },
  {
   "cell_type": "markdown",
   "id": "05978603",
   "metadata": {},
   "source": [
    "## Experiment Data Ovre"
   ]
  }
 ],
 "metadata": {
  "kernelspec": {
   "display_name": "Python 3",
   "language": "python",
   "name": "python3"
  },
  "language_info": {
   "codemirror_mode": {
    "name": "ipython",
    "version": 3
   },
   "file_extension": ".py",
   "mimetype": "text/x-python",
   "name": "python",
   "nbconvert_exporter": "python",
   "pygments_lexer": "ipython3",
   "version": "3.9.5"
  }
 },
 "nbformat": 4,
 "nbformat_minor": 5
}
