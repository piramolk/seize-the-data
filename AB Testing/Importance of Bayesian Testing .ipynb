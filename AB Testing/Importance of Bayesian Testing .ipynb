{
 "cells": [
  {
   "cell_type": "markdown",
   "id": "55f1cf57",
   "metadata": {},
   "source": [
    "# Reference\n",
    "* youtube video\n",
    "https://www.youtube.com/watch?v=OVgi6ftJiyQ\n",
    "    "
   ]
  },
  {
   "cell_type": "code",
   "execution_count": 1,
   "id": "fd6c9695",
   "metadata": {},
   "outputs": [],
   "source": [
    "import numpy as np\n",
    "import datetime\n",
    "from scipy.stats import chi2_contingency,beta\n",
    "from IPython.display import Image"
   ]
  },
  {
   "cell_type": "markdown",
   "id": "619b8dcd",
   "metadata": {},
   "source": [
    "# 1. Experiment Definition\n",
    "\n",
    "We developed a new webpage and want to test its effects on purchase conversion. We will split our users evenly into 2 groups:\n",
    "\n",
    "1. control: they get the old webpage\n",
    "2. treatment: new webpage\n",
    "\n",
    "Metric we are tracking:\n",
    "\n",
    "purchase conversion = $ \\frac{ '#' Converted Users}{ '#' Exposed Users}$\n",
    "    \n",
    "    \n",
    "We have \n",
    "1. Exposure\n",
    "    * user is bucketed as control and sees their corresponding page for the first time\n",
    "2. Conversion\n",
    "    * An exposed user makes a purchase within 7 days of being first exposed\n",
    "    \n",
    "Questions to ask when setting up a test:\n",
    "* how do you think the experiment will fair?\n",
    "* do we have actionable next steps laid out?"
   ]
  },
  {
   "cell_type": "code",
   "execution_count": null,
   "id": "7520fc23",
   "metadata": {},
   "outputs": [],
   "source": []
  }
 ],
 "metadata": {
  "kernelspec": {
   "display_name": "Python 3",
   "language": "python",
   "name": "python3"
  },
  "language_info": {
   "codemirror_mode": {
    "name": "ipython",
    "version": 3
   },
   "file_extension": ".py",
   "mimetype": "text/x-python",
   "name": "python",
   "nbconvert_exporter": "python",
   "pygments_lexer": "ipython3",
   "version": "3.9.5"
  }
 },
 "nbformat": 4,
 "nbformat_minor": 5
}
