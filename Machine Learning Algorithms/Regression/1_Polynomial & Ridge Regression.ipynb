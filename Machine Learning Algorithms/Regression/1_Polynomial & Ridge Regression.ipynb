{
 "cells": [
  {
   "cell_type": "markdown",
   "id": "fa7425d6",
   "metadata": {},
   "source": [
    "# About"
   ]
  },
  {
   "attachments": {
    "1_kX6E71wfaeSWKgg_N5hd3g.gif": {
     "image/gif": "[encoded data removed]"
    }
   },
   "cell_type": "markdown",
   "id": "eaf25c4f",
   "metadata": {},
   "source": [
    "## Equation of Polynomial Regression\n",
    "![1_kX6E71wfaeSWKgg_N5hd3g.gif](attachment:1_kX6E71wfaeSWKgg_N5hd3g.gif)"
   ]
  },
  {
   "cell_type": "code",
   "execution_count": null,
   "id": "ca632764",
   "metadata": {},
   "outputs": [],
   "source": []
  },
  {
   "cell_type": "code",
   "execution_count": null,
   "id": "a88075f9",
   "metadata": {},
   "outputs": [],
   "source": []
  },
  {
   "attachments": {
    "1_Zs4ZVerKxWu4WVf5KXdAtQ.gif": {
     "image/gif": "[encoded data removed]"
    }
   },
   "cell_type": "markdown",
   "id": "1a9a43fb",
   "metadata": {},
   "source": [
    "## Ridge regression\n",
    "* Helps to overcome the problem of overfitting\n",
    "* Similar to linear regression only it differs in cost function\n",
    "    ![1_Zs4ZVerKxWu4WVf5KXdAtQ.gif](attachment:1_Zs4ZVerKxWu4WVf5KXdAtQ.gif)"
   ]
  },
  {
   "cell_type": "markdown",
   "id": "e0b97485",
   "metadata": {},
   "source": [
    "<u> Alright wots all this then </u>\n",
    "* In Ridge regression we square the weight, multiply it by a l2_penalty term(lambda) and add it to the RSS(Residual sum of square).\n",
    "* Then we try to minimize this value.  (think calculus!)\n",
    "* The lambda parameter controls the shrinkage of the term. \n",
    "    * set to 0 : the entire equation becomes like normal Linear Regression curve \n",
    "    * high values of lambda ensure the ridge regression to overfit the data. \n",
    "* An optimal value for lambda by using cross validation.\n"
   ]
  },
  {
   "cell_type": "code",
   "execution_count": null,
   "id": "d4a528b2",
   "metadata": {},
   "outputs": [],
   "source": [
    "# creating the dictonary including the replacement values\n",
    "bsmt_zip = {'Ex':6,'Gd':5,'TA':4,'Fa':3,'Po':2,'NA':1}\n",
    "\n",
    "# using the map function to complete the replacement\n",
    "housing_data.BsmtQual = housing_data.BsmtQual.map(bsmt_zip)"
   ]
  },
  {
   "cell_type": "code",
   "execution_count": null,
   "id": "57ba2189",
   "metadata": {},
   "outputs": [],
   "source": []
  },
  {
   "cell_type": "code",
   "execution_count": null,
   "id": "a72c3c38",
   "metadata": {},
   "outputs": [],
   "source": []
  },
  {
   "cell_type": "code",
   "execution_count": null,
   "id": "03f2ab1c",
   "metadata": {},
   "outputs": [],
   "source": []
  },
  {
   "cell_type": "code",
   "execution_count": null,
   "id": "86764423",
   "metadata": {},
   "outputs": [],
   "source": []
  },
  {
   "cell_type": "code",
   "execution_count": null,
   "id": "2914e39f",
   "metadata": {},
   "outputs": [],
   "source": []
  }
 ],
 "metadata": {
  "kernelspec": {
   "display_name": "Python 3",
   "language": "python",
   "name": "python3"
  },
  "language_info": {
   "codemirror_mode": {
    "name": "ipython",
    "version": 3
   },
   "file_extension": ".py",
   "mimetype": "text/x-python",
   "name": "python",
   "nbconvert_exporter": "python",
   "pygments_lexer": "ipython3",
   "version": "3.9.5"
  }
 },
 "nbformat": 4,
 "nbformat_minor": 5
}
