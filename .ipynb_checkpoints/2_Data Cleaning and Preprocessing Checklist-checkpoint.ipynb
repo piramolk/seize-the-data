{
 "cells": [
  {
   "cell_type": "code",
   "execution_count": null,
   "id": "f5adc6a3",
   "metadata": {},
   "outputs": [],
   "source": []
  },
  {
   "cell_type": "code",
   "execution_count": null,
   "id": "32bacd97",
   "metadata": {},
   "outputs": [],
   "source": []
  },
  {
   "cell_type": "code",
   "execution_count": null,
   "id": "8bf8cbab",
   "metadata": {},
   "outputs": [],
   "source": [
    "# Merging \n",
    "\n",
    "\n",
    "\n",
    "\n",
    "# Missing values\n",
    "* `df.isna().sum()`\n",
    "    * get the numberof NaNs\n",
    "* or in np `np.isnull(array)`\n",
    "* `df.replace(np.nan, 'N/A')\n",
    "* `df.dropna()`\n"
   ]
  },
  {
   "cell_type": "code",
   "execution_count": null,
   "id": "5e3e8a28",
   "metadata": {},
   "outputs": [],
   "source": []
  },
  {
   "cell_type": "code",
   "execution_count": null,
   "id": "d073d067",
   "metadata": {},
   "outputs": [],
   "source": []
  }
 ],
 "metadata": {
  "kernelspec": {
   "display_name": "Python 3",
   "language": "python",
   "name": "python3"
  },
  "language_info": {
   "codemirror_mode": {
    "name": "ipython",
    "version": 3
   },
   "file_extension": ".py",
   "mimetype": "text/x-python",
   "name": "python",
   "nbconvert_exporter": "python",
   "pygments_lexer": "ipython3",
   "version": "3.9.5"
  }
 },
 "nbformat": 4,
 "nbformat_minor": 5
}
