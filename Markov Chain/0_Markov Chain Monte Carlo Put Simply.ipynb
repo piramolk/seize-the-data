{
 "cells": [
  {
   "cell_type": "markdown",
   "id": "eefb4cad",
   "metadata": {},
   "source": [
    "# About\n",
    "* Objective\n",
    "    * be able to express what MCMC means in layman's terms and execute using python\n",
    "\n",
    "---\n",
    "# What is MCMC?\n",
    "* a technique to solve the problem of <b> sampling from a complicated distribution </b>\n",
    "\n",
    "\n",
    "\n",
    "# Markov chains\n",
    "* Shop sells only Pizza, Hamburgers and Hot dogs and they sell only one thing a day\n",
    "* There's a probability of which they sell for each but it depends on what was served the day before\n",
    "\n",
    "## The markov property\n",
    "\n",
    "$$\n",
    "    P(X_{n+1} = x | X_{n} = x_{n})\\\\\n",
    "$$\n",
    "\n",
    "* Sum of properties always = 1\n",
    "* The probability of a future event given a past event is only the probability of that past event\n",
    "so you don't need to take into account all the previous steps\n",
    "-> that is the markov property\n",
    "\n",
    "* A Markov Chain is a process where the next state depends only on the current state. (A state in this context refers to the assignment of values to the parameters). A Markov Chain is memoryless because only the current state matters and not how it arrived in that state. \n",
    "\n",
    "* The concept of a Markov Chain is that we do not need to know the entire history of a process to predict the next output, an approximation that works well in many real-world situations.\n",
    "\n",
    "\n",
    "Putting it all together, the basic procedure for Markov Chain Monte Carlo in our problem is as follows:\n",
    "1. Select an initial set of values for alpha and beta, the parameters of the logistic function.\n",
    "2. Randomly assign new values to alpha and beta based on the current state.\n",
    "3. Check if the new random values agree with the observations. If they do not, reject the values and return to the previous state. If they do, accept the values as the new current state.\n",
    "4. Repeat steps 2 and 3 for the specified number of iterations.\n",
    "\n",
    "\n",
    "\n",
    "* Putting together the ideas of Markov Chain and Monte Carlo, MCMC is a method that repeatedly draws random values for the parameters of a distribution based on the current values. Each sample of values is random, but the choices for the values are limited by the current state and the assumed prior distribution of the parameters. MCMC can be considered as a random walk that gradually converges to the true distribution"
   ]
  },
  {
   "cell_type": "code",
   "execution_count": 1,
   "id": "129dbeff",
   "metadata": {},
   "outputs": [
    {
     "ename": "FileNotFoundError",
     "evalue": "[Errno 2] No such file or directory: '../style/bmh_matplotlibrc.json'",
     "output_type": "error",
     "traceback": [
      "\u001b[0;31m---------------------------------------------------------------------------\u001b[0m",
      "\u001b[0;31mFileNotFoundError\u001b[0m                         Traceback (most recent call last)",
      "\u001b[0;32m<ipython-input-1-e7387a73b4cb>\u001b[0m in \u001b[0;36m<module>\u001b[0;34m\u001b[0m\n\u001b[1;32m     20\u001b[0m \u001b[0;34m\u001b[0m\u001b[0m\n\u001b[1;32m     21\u001b[0m \u001b[0;32mimport\u001b[0m \u001b[0mjson\u001b[0m\u001b[0;34m\u001b[0m\u001b[0;34m\u001b[0m\u001b[0m\n\u001b[0;32m---> 22\u001b[0;31m \u001b[0ms\u001b[0m \u001b[0;34m=\u001b[0m \u001b[0mjson\u001b[0m\u001b[0;34m.\u001b[0m\u001b[0mload\u001b[0m\u001b[0;34m(\u001b[0m\u001b[0mopen\u001b[0m\u001b[0;34m(\u001b[0m\u001b[0;34m'../style/bmh_matplotlibrc.json'\u001b[0m\u001b[0;34m)\u001b[0m\u001b[0;34m)\u001b[0m\u001b[0;34m\u001b[0m\u001b[0;34m\u001b[0m\u001b[0m\n\u001b[0m\u001b[1;32m     23\u001b[0m \u001b[0mmatplotlib\u001b[0m\u001b[0;34m.\u001b[0m\u001b[0mrcParams\u001b[0m\u001b[0;34m.\u001b[0m\u001b[0mupdate\u001b[0m\u001b[0;34m(\u001b[0m\u001b[0ms\u001b[0m\u001b[0;34m)\u001b[0m\u001b[0;34m\u001b[0m\u001b[0;34m\u001b[0m\u001b[0m\n\u001b[1;32m     24\u001b[0m \u001b[0mmatplotlib\u001b[0m\u001b[0;34m.\u001b[0m\u001b[0mrcParams\u001b[0m\u001b[0;34m[\u001b[0m\u001b[0;34m'figure.figsize'\u001b[0m\u001b[0;34m]\u001b[0m \u001b[0;34m=\u001b[0m \u001b[0;34m(\u001b[0m\u001b[0;36m10\u001b[0m\u001b[0;34m,\u001b[0m \u001b[0;36m3\u001b[0m\u001b[0;34m)\u001b[0m\u001b[0;34m\u001b[0m\u001b[0;34m\u001b[0m\u001b[0m\n",
      "\u001b[0;31mFileNotFoundError\u001b[0m: [Errno 2] No such file or directory: '../style/bmh_matplotlibrc.json'"
     ]
    }
   ],
   "source": [
    "# pandas and numpy for data manipulation\n",
    "import pandas as pd\n",
    "import numpy as np\n",
    "\n",
    "# scipy for algorithms\n",
    "import scipy\n",
    "from scipy import stats\n",
    "\n",
    "# pymc3 for Bayesian Inference, pymc built on t\n",
    "import pymc3 as pm\n",
    "import theano.tensor as tt\n",
    "import scipy\n",
    "from scipy import optimize\n",
    "\n",
    "# matplotlib for plotting\n",
    "import matplotlib.pyplot as plt\n",
    "%matplotlib inline\n",
    "from IPython.core.pylabtools import figsize\n",
    "import matplotlib\n",
    "\n",
    "import json\n",
    "s = json.load(open('../style/bmh_matplotlibrc.json'))\n",
    "matplotlib.rcParams.update(s)\n",
    "matplotlib.rcParams['figure.figsize'] = (10, 3)\n",
    "matplotlib.rcParams['font.size'] = 14\n",
    "matplotlib.rcParams['ytick.major.size'] = 20\n",
    "\n",
    "# Number of samples for Markov Chain Monte Carlo\n",
    "N_SAMPLES = 5000"
   ]
  },
  {
   "cell_type": "code",
   "execution_count": null,
   "id": "1593c617",
   "metadata": {},
   "outputs": [],
   "source": []
  }
 ],
 "metadata": {
  "kernelspec": {
   "display_name": "Python 3",
   "language": "python",
   "name": "python3"
  },
  "language_info": {
   "codemirror_mode": {
    "name": "ipython",
    "version": 3
   },
   "file_extension": ".py",
   "mimetype": "text/x-python",
   "name": "python",
   "nbconvert_exporter": "python",
   "pygments_lexer": "ipython3",
   "version": "3.9.5"
  }
 },
 "nbformat": 4,
 "nbformat_minor": 5
}
